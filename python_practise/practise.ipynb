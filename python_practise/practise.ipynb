{
 "cells": [
  {
   "cell_type": "markdown",
   "id": "f81f0fb7",
   "metadata": {},
   "source": [
    "# **140 python solved questions**"
   ]
  },
  {
   "cell_type": "markdown",
   "id": "b8e72c9f",
   "metadata": {},
   "source": [
    "### *1.Write a program to print \"Hello Python\"*"
   ]
  },
  {
   "cell_type": "code",
   "execution_count": null,
   "id": "0308f153",
   "metadata": {},
   "outputs": [
    {
     "name": "stdout",
     "output_type": "stream",
     "text": [
      "Hello Python\n"
     ]
    },
    {
     "name": "stdout",
     "output_type": "stream",
     "text": [
      "Hello Python\n"
     ]
    }
   ],
   "source": [
    "print(\"Hello Python\")"
   ]
  },
  {
   "cell_type": "markdown",
   "id": "80558a00",
   "metadata": {},
   "source": [
    "### *2.Write a program to do arithmatic operations*"
   ]
  },
  {
   "cell_type": "code",
   "execution_count": null,
   "id": "5bf704b8",
   "metadata": {},
   "outputs": [
    {
     "name": "stdout",
     "output_type": "stream",
     "text": [
      "Addition of a and b is :  20.0\n",
      "subtraction of a and b is :  0.0\n",
      "Multiplication of a and b is :  100.0\n",
      "Divison of a and b is :  1.0\n"
     ]
    }
   ],
   "source": [
    "a=float(input(\"Enter the first number: \"))\n",
    "b= float(input(\"Enter the second number: \"))\n",
    "sum = a+b\n",
    "sub = a-b\n",
    "mul = a*b\n",
    "div = a/b\n",
    "print(\"Addition of a and b is : \",sum)\n",
    "print(\"subtraction of a and b is : \",sub)\n",
    "print(\"Multiplication of a and b is : \",mul)\n",
    "print(\"Divison of a and b is : \",div)\n",
    "\n",
    "#input given a=10 , b=10\n"
   ]
  },
  {
   "cell_type": "markdown",
   "id": "2ed785a9",
   "metadata": {},
   "source": [
    "### *3.Write a python program to find area of triangle*"
   ]
  },
  {
   "cell_type": "code",
   "execution_count": 7,
   "id": "034360c2",
   "metadata": {},
   "outputs": [
    {
     "name": "stdout",
     "output_type": "stream",
     "text": [
      "Area of triangle is :  75.0\n"
     ]
    }
   ],
   "source": [
    "b=float(input(\"Enter the base: \"))\n",
    "h=float(input(\"Enter the height: \"))\n",
    "area = 0.5*b*h\n",
    "print(\"Area of triangle is : \",area)\n",
    "\n",
    "#input given b=10,h=15\n",
    "\n"
   ]
  },
  {
   "cell_type": "markdown",
   "id": "9740764d",
   "metadata": {},
   "source": [
    "### *4.Write a python program to swap two variables*"
   ]
  },
  {
   "cell_type": "code",
   "execution_count": 13,
   "id": "605555bb",
   "metadata": {},
   "outputs": [
    {
     "name": "stdout",
     "output_type": "stream",
     "text": [
      "a: 20 b: 10\n"
     ]
    }
   ],
   "source": [
    "a =10\n",
    "b = 20\n",
    "temp = a\n",
    "a = b \n",
    "b = temp\n",
    "print(\"a:\",a,\"b:\",b)"
   ]
  },
  {
   "cell_type": "markdown",
   "id": "c8ccbe95",
   "metadata": {},
   "source": [
    "### *5.Write a python program to generate a random number*"
   ]
  },
  {
   "cell_type": "code",
   "execution_count": 15,
   "id": "a80f9ff7",
   "metadata": {},
   "outputs": [
    {
     "name": "stdout",
     "output_type": "stream",
     "text": [
      "random number: 77\n"
     ]
    }
   ],
   "source": [
    "import random\n",
    "print(f\"random number: {random.randint(1,100)}\")"
   ]
  },
  {
   "cell_type": "markdown",
   "id": "30a5db9a",
   "metadata": {},
   "source": [
    "### *6.Write a python program to convert kilometers to miles*"
   ]
  },
  {
   "cell_type": "code",
   "execution_count": 23,
   "id": "7c9d5929",
   "metadata": {},
   "outputs": [
    {
     "name": "stdout",
     "output_type": "stream",
     "text": [
      "100 kilometer is 62.137100000000004 miles\n"
     ]
    }
   ],
   "source": [
    "kilometers = 100\n",
    "# 1 kilometer = 0.621371 miles\n",
    "miles = kilometers*0.621371\n",
    "print(f\"{kilometers} kilometer is {miles} miles\")"
   ]
  },
  {
   "cell_type": "markdown",
   "id": "7c3ab9dc",
   "metadata": {},
   "source": [
    "### *7.Write a python program to convert Celcius to Fahrenheit*"
   ]
  },
  {
   "cell_type": "code",
   "execution_count": null,
   "id": "6af6a470",
   "metadata": {},
   "outputs": [
    {
     "name": "stdout",
     "output_type": "stream",
     "text": [
      "37.0degrees celcius is 98.6F\n"
     ]
    }
   ],
   "source": [
    "celcius = float(input(\"Enter the temperature in celcius: \"))\n",
    "# Fahrenheit = (celcius*9/5)+32\n",
    "Fahrenheit = (celcius*9/5)+32\n",
    "print(f\"{celcius} degrees celcius is {Fahrenheit}F\") \n",
    "\n",
    "#input given: 37"
   ]
  },
  {
   "cell_type": "markdown",
   "id": "3c883a45",
   "metadata": {},
   "source": [
    "### *8.Write a program to display calender*"
   ]
  },
  {
   "cell_type": "code",
   "execution_count": 29,
   "id": "375f99b5",
   "metadata": {},
   "outputs": [
    {
     "name": "stdout",
     "output_type": "stream",
     "text": [
      "   November 2023\n",
      "Mo Tu We Th Fr Sa Su\n",
      "       1  2  3  4  5\n",
      " 6  7  8  9 10 11 12\n",
      "13 14 15 16 17 18 19\n",
      "20 21 22 23 24 25 26\n",
      "27 28 29 30\n",
      "\n"
     ]
    }
   ],
   "source": [
    "import calendar\n",
    "year = 2023\n",
    "month = 11\n",
    "cal = calendar.month(year,month)\n",
    "print(cal)"
   ]
  },
  {
   "cell_type": "markdown",
   "id": "e15f8b0f",
   "metadata": {},
   "source": [
    "### *9.Write a python program to solve quadratic equations*"
   ]
  },
  {
   "cell_type": "code",
   "execution_count": 32,
   "id": "96ce8db2",
   "metadata": {},
   "outputs": [
    {
     "name": "stdout",
     "output_type": "stream",
     "text": [
      "Root1 = -2.0 + 2.0i\n",
      "Root1 = -2.0 - 2.0i\n"
     ]
    }
   ],
   "source": [
    "# standard form = ax^2+bx+c=0 where a,b,c are real numbers and a != 0 \n",
    "import math\n",
    "a = float(input(\"Enter coeffecient of a: \"))\n",
    "b = float(input(\"Enter coeffecient of b: \"))\n",
    "c = float(input(\"Enter coeffecient of c: \"))\n",
    " \n",
    "discriminant = b**2-4*a*c \n",
    "if discriminant > 0:\n",
    "    root1 = (-b + math.sqrt(discriminant)) / (2*a)\n",
    "    root2 = (-b - math.sqrt(discriminant)) / (2*a)\n",
    "    print(\"Root1 = \",root1)\n",
    "    print(\"Root2 = \",root2)\n",
    "elif discriminant == 0:\n",
    "    root = -b / (2*a)\n",
    "    print(\"root = \",root)\n",
    "else : \n",
    "    real_part = -b / (2*a)   \n",
    "    img_part = math.sqrt(abs(discriminant)) / (2*a)  \n",
    "    print(f\"Root1 = {real_part} + {img_part}i\")\n",
    "    print(f\"Root1 = {real_part} - {img_part}i\")\n",
    "    \n",
    "    \n",
    "    #input given : a=1,b=4,c=8"
   ]
  },
  {
   "cell_type": "markdown",
   "id": "0175be5c",
   "metadata": {},
   "source": [
    "### *10.Write a python program to swap two numbers without temp*"
   ]
  },
  {
   "cell_type": "code",
   "execution_count": 34,
   "id": "05be0483",
   "metadata": {},
   "outputs": [
    {
     "name": "stdout",
     "output_type": "stream",
     "text": [
      "a: 20 b: 10\n"
     ]
    }
   ],
   "source": [
    "a=10\n",
    "b=20\n",
    "a,b = b,a\n",
    "print(f\"a: {a} b: {b}\")"
   ]
  },
  {
   "cell_type": "markdown",
   "id": "39377fdf",
   "metadata": {},
   "source": [
    "### *11.Write a Python program to check if the number is positive,negative or zero*"
   ]
  },
  {
   "cell_type": "code",
   "execution_count": null,
   "id": "6c2bdc3e",
   "metadata": {},
   "outputs": [
    {
     "name": "stdout",
     "output_type": "stream",
     "text": [
      "its a positive number\n"
     ]
    }
   ],
   "source": [
    "num = int(input(\"Enter a number to check if its positive , negative or zero\"))\n",
    "if(num>0):\n",
    "    print(\"its a positive number\")\n",
    "elif(num<0):\n",
    "    print(\"Its a negative number\")\n",
    "else:\n",
    "    print(\"its a zero\")\n",
    "    \n",
    "    ##input: 10\n",
    "        "
   ]
  },
  {
   "cell_type": "markdown",
   "id": "3a1ba4c9",
   "metadata": {},
   "source": [
    "### *12.Write a program to check if a number is odd or even*"
   ]
  },
  {
   "cell_type": "code",
   "execution_count": 37,
   "id": "04909c84",
   "metadata": {},
   "outputs": [
    {
     "name": "stdout",
     "output_type": "stream",
     "text": [
      "its a even number\n"
     ]
    }
   ],
   "source": [
    "num = int(input(\"Enter a number\"))\n",
    "if(num%2==0):\n",
    "    print(\"its a even number\")\n",
    "else:\n",
    "    print(\"its an odd number\")\n",
    " \n",
    " #input:18       \n",
    "    "
   ]
  },
  {
   "cell_type": "markdown",
   "id": "7c1b7363",
   "metadata": {},
   "source": [
    "### *13.Write a python program to check Leap year*"
   ]
  },
  {
   "cell_type": "code",
   "execution_count": 39,
   "id": "c47f9cc7",
   "metadata": {},
   "outputs": [
    {
     "name": "stdout",
     "output_type": "stream",
     "text": [
      "2024 is a leap year\n"
     ]
    }
   ],
   "source": [
    "year = int(input(\"enter a year: \"))\n",
    "#divided by 100 means century year(ending with 00)\n",
    "#century year divided by 400 is a leap year\n",
    "if(year % 400 == 0) and (year % 100 == 0):\n",
    "    print(\"{0} is a leap year\".format(year))\n",
    "    \n",
    "# not divided by 100 meeans not a century year\n",
    "# year divided by 4 is a leap year \n",
    "\n",
    "#century year divided by 400 is a leap year\n",
    "if(year % 4 == 0) and (year % 100 != 0):\n",
    "    print(\"{0} is a leap year\".format(year))\n",
    "else:\n",
    "  print(\"{0} is not a leap year\".format(year))   \n",
    "  \n",
    "#input: 2024  \n",
    "\n",
    " "
   ]
  },
  {
   "cell_type": "markdown",
   "id": "da18384a",
   "metadata": {},
   "source": [
    "### *14.Write a python program to check prime number*"
   ]
  },
  {
   "cell_type": "code",
   "execution_count": null,
   "id": "35649a98",
   "metadata": {},
   "outputs": [
    {
     "name": "stdout",
     "output_type": "stream",
     "text": [
      "its a prime number\n"
     ]
    }
   ],
   "source": [
    "num = int(input(\"Enter a number: \"))\n",
    "if num==1:\n",
    "    print(f\"{num} is not a prime number\")\n",
    "elif(num > 1):\n",
    "    for i in range(2,num):\n",
    "        if(num % i) == 0:\n",
    "            print(\"Its not a prime number\") \n",
    "            break\n",
    "    else:\n",
    "        print(\"its a prime number\")\n",
    "else:\n",
    "    print(\"please enter a positive number\")\n",
    "    \n",
    "    #input: 23                   "
   ]
  },
  {
   "cell_type": "markdown",
   "id": "c5631059",
   "metadata": {},
   "source": [
    "### *15.Write a Program to find prime numbers in an interval of 1-10*"
   ]
  },
  {
   "cell_type": "code",
   "execution_count": 47,
   "id": "1a78f6ba",
   "metadata": {},
   "outputs": [
    {
     "name": "stdout",
     "output_type": "stream",
     "text": [
      "prime numbers between 1 and 10 are \n",
      "2\n",
      "3\n",
      "5\n",
      "7\n"
     ]
    }
   ],
   "source": [
    "lower = 1\n",
    "upper = 10\n",
    "\n",
    "print(\"prime numbers between\",lower,\"and\",upper,\"are \")\n",
    "for num in range(lower,upper+1):\n",
    "    if(num>1):\n",
    "        for i in range(2,num):\n",
    "            if(num%i)==0:\n",
    "                break\n",
    "        else:\n",
    "            print(num)\n",
    "            \n"
   ]
  },
  {
   "cell_type": "markdown",
   "id": "bad203c1",
   "metadata": {},
   "source": [
    "### *16.Write a program to find the factorial of a number*"
   ]
  },
  {
   "cell_type": "code",
   "execution_count": null,
   "id": "b9328867",
   "metadata": {},
   "outputs": [
    {
     "name": "stdout",
     "output_type": "stream",
     "text": [
      "factorial of 5 is 120\n"
     ]
    }
   ],
   "source": [
    "a = int(input(\"Enter a number: \"))\n",
    "factorial = 1\n",
    "if( a == 0):\n",
    "    print(factorial)\n",
    "elif a<0:\n",
    "    print(\"factorial does not exist for negative numbers\")\n",
    "else:\n",
    "    for i in range(1,a+1):\n",
    "        factorial = factorial*i\n",
    "    print(\"factorial of\",a,\"is\",factorial)        \n",
    "\n",
    "#input:5"
   ]
  },
  {
   "cell_type": "markdown",
   "id": "6bbe899f",
   "metadata": {},
   "source": [
    "### *17.Write a program to display the multiplication table*"
   ]
  },
  {
   "cell_type": "code",
   "execution_count": null,
   "id": "9b5a8b8b",
   "metadata": {},
   "outputs": [
    {
     "name": "stdout",
     "output_type": "stream",
     "text": [
      "2 X 1 = 2\n",
      "2 X 2 = 4\n",
      "2 X 3 = 6\n",
      "2 X 4 = 8\n",
      "2 X 5 = 10\n",
      "2 X 6 = 12\n",
      "2 X 7 = 14\n",
      "2 X 8 = 16\n",
      "2 X 9 = 18\n",
      "2 X 10 = 20\n"
     ]
    }
   ],
   "source": [
    "num = int(input(\"Enter a number\"))\n",
    "mul = 1\n",
    "for i in range(1,11):\n",
    "    mul = num*i\n",
    "    print(num,\"X\",i,\"=\",mul)\n",
    "    \n",
    " #input: 2   \n",
    "    "
   ]
  },
  {
   "cell_type": "markdown",
   "id": "b33b2910",
   "metadata": {},
   "source": [
    "### *18.Write a program to print fibonacci series*"
   ]
  },
  {
   "cell_type": "code",
   "execution_count": null,
   "id": "9d99de12",
   "metadata": {},
   "outputs": [],
   "source": [
    "num = int(input(\"How many terms? \"))\n",
    "n1,n2 = 0,1\n",
    "if num<=0:\n",
    "    print(\"enter a postive number \")\n",
    "    \n"
   ]
  }
 ],
 "metadata": {
  "kernelspec": {
   "display_name": ".venv",
   "language": "python",
   "name": "python3"
  },
  "language_info": {
   "codemirror_mode": {
    "name": "ipython",
    "version": 3
   },
   "file_extension": ".py",
   "mimetype": "text/x-python",
   "name": "python",
   "nbconvert_exporter": "python",
   "pygments_lexer": "ipython3",
   "version": "3.11.4"
  }
 },
 "nbformat": 4,
 "nbformat_minor": 5
}
