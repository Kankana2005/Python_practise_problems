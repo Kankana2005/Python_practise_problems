{
 "cells": [
  {
   "cell_type": "markdown",
   "id": "f81f0fb7",
   "metadata": {},
   "source": [
    "# **140 python solved questions**"
   ]
  },
  {
   "cell_type": "markdown",
   "id": "b8e72c9f",
   "metadata": {},
   "source": [
    "### 1.Write a program to print \"Hello Python\""
   ]
  },
  {
   "cell_type": "code",
   "execution_count": null,
   "id": "0308f153",
   "metadata": {},
   "outputs": [
    {
     "name": "stdout",
     "output_type": "stream",
     "text": [
      "Hello Python\n"
     ]
    },
    {
     "name": "stdout",
     "output_type": "stream",
     "text": [
      "Hello Python\n"
     ]
    }
   ],
   "source": [
    "print(\"Hello Python\")"
   ]
  },
  {
   "cell_type": "markdown",
   "id": "80558a00",
   "metadata": {},
   "source": [
    "### 2.Write a program to do arithmatic operations"
   ]
  },
  {
   "cell_type": "code",
   "execution_count": null,
   "id": "5bf704b8",
   "metadata": {},
   "outputs": [
    {
     "name": "stdout",
     "output_type": "stream",
     "text": [
      "Addition of a and b is :  20.0\n",
      "subtraction of a and b is :  0.0\n",
      "Multiplication of a and b is :  100.0\n",
      "Divison of a and b is :  1.0\n"
     ]
    }
   ],
   "source": [
    "a=float(input(\"Enter the first number: \"))\n",
    "b= float(input(\"Enter the second number: \"))\n",
    "sum = a+b\n",
    "sub = a-b\n",
    "mul = a*b\n",
    "div = a/b\n",
    "print(\"Addition of a and b is : \",sum)\n",
    "print(\"subtraction of a and b is : \",sub)\n",
    "print(\"Multiplication of a and b is : \",mul)\n",
    "print(\"Divison of a and b is : \",div)\n",
    "\n",
    "#input given a=10 , b=10\n"
   ]
  },
  {
   "cell_type": "markdown",
   "id": "2ed785a9",
   "metadata": {},
   "source": [
    "### 3.Write a python program to find area of triangle"
   ]
  },
  {
   "cell_type": "code",
   "execution_count": 7,
   "id": "034360c2",
   "metadata": {},
   "outputs": [
    {
     "name": "stdout",
     "output_type": "stream",
     "text": [
      "Area of triangle is :  75.0\n"
     ]
    }
   ],
   "source": [
    "b=float(input(\"Enter the base: \"))\n",
    "h=float(input(\"Enter the height: \"))\n",
    "area = 0.5*b*h\n",
    "print(\"Area of triangle is : \",area)\n",
    "\n",
    "#input given b=10,h=15\n",
    "\n"
   ]
  },
  {
   "cell_type": "markdown",
   "id": "9740764d",
   "metadata": {},
   "source": [
    "### 4.Write a python program to swap two variables"
   ]
  },
  {
   "cell_type": "code",
   "execution_count": 13,
   "id": "605555bb",
   "metadata": {},
   "outputs": [
    {
     "name": "stdout",
     "output_type": "stream",
     "text": [
      "a: 20 b: 10\n"
     ]
    }
   ],
   "source": [
    "a =10\n",
    "b = 20\n",
    "temp = a\n",
    "a = b \n",
    "b = temp\n",
    "print(\"a:\",a,\"b:\",b)"
   ]
  },
  {
   "cell_type": "markdown",
   "id": "c8ccbe95",
   "metadata": {},
   "source": [
    "### 5.Write a python program to generate a random number"
   ]
  },
  {
   "cell_type": "code",
   "execution_count": 15,
   "id": "a80f9ff7",
   "metadata": {},
   "outputs": [
    {
     "name": "stdout",
     "output_type": "stream",
     "text": [
      "random number: 77\n"
     ]
    }
   ],
   "source": [
    "import random\n",
    "print(f\"random number: {random.randint(1,100)}\")"
   ]
  },
  {
   "cell_type": "markdown",
   "id": "30a5db9a",
   "metadata": {},
   "source": [
    "### 6.Write a python program to convert kilometers to miles"
   ]
  },
  {
   "cell_type": "code",
   "execution_count": 23,
   "id": "7c9d5929",
   "metadata": {},
   "outputs": [
    {
     "name": "stdout",
     "output_type": "stream",
     "text": [
      "100 kilometer is 62.137100000000004 miles\n"
     ]
    }
   ],
   "source": [
    "kilometers = 100\n",
    "# 1 kilometer = 0.621371 miles\n",
    "miles = kilometers*0.621371\n",
    "print(f\"{kilometers} kilometer is {miles} miles\")"
   ]
  },
  {
   "cell_type": "markdown",
   "id": "7c3ab9dc",
   "metadata": {},
   "source": [
    "### 7.Write a python program to convert Celcius to Fahrenheit"
   ]
  },
  {
   "cell_type": "code",
   "execution_count": null,
   "id": "6af6a470",
   "metadata": {},
   "outputs": [
    {
     "name": "stdout",
     "output_type": "stream",
     "text": [
      "37.0degrees celcius is 98.6F\n"
     ]
    }
   ],
   "source": [
    "celcius = float(input(\"Enter the temperature in celcius: \"))\n",
    "# Fahrenheit = (celcius*9/5)+32\n",
    "Fahrenheit = (celcius*9/5)+32\n",
    "print(f\"{celcius} degrees celcius is {Fahrenheit}F\") \n",
    "\n",
    "#input given: 37"
   ]
  },
  {
   "cell_type": "markdown",
   "id": "3c883a45",
   "metadata": {},
   "source": [
    "### 8.Write a program to display calender"
   ]
  },
  {
   "cell_type": "code",
   "execution_count": 29,
   "id": "375f99b5",
   "metadata": {},
   "outputs": [
    {
     "name": "stdout",
     "output_type": "stream",
     "text": [
      "   November 2023\n",
      "Mo Tu We Th Fr Sa Su\n",
      "       1  2  3  4  5\n",
      " 6  7  8  9 10 11 12\n",
      "13 14 15 16 17 18 19\n",
      "20 21 22 23 24 25 26\n",
      "27 28 29 30\n",
      "\n"
     ]
    }
   ],
   "source": [
    "import calendar\n",
    "year = 2023\n",
    "month = 11\n",
    "cal = calendar.month(year,month)\n",
    "print(cal)"
   ]
  },
  {
   "cell_type": "markdown",
   "id": "e15f8b0f",
   "metadata": {},
   "source": [
    "### 9.Write a python program to solve quadratic equations"
   ]
  },
  {
   "cell_type": "code",
   "execution_count": 32,
   "id": "96ce8db2",
   "metadata": {},
   "outputs": [
    {
     "name": "stdout",
     "output_type": "stream",
     "text": [
      "Root1 = -2.0 + 2.0i\n",
      "Root1 = -2.0 - 2.0i\n"
     ]
    }
   ],
   "source": [
    "# standard form = ax^2+bx+c=0 where a,b,c are real numbers and a != 0 \n",
    "import math\n",
    "a = float(input(\"Enter coeffecient of a: \"))\n",
    "b = float(input(\"Enter coeffecient of b: \"))\n",
    "c = float(input(\"Enter coeffecient of c: \"))\n",
    " \n",
    "discriminant = b**2-4*a*c \n",
    "if discriminant > 0:\n",
    "    root1 = (-b + math.sqrt(discriminant)) / (2*a)\n",
    "    root2 = (-b - math.sqrt(discriminant)) / (2*a)\n",
    "    print(\"Root1 = \",root1)\n",
    "    print(\"Root2 = \",root2)\n",
    "elif discriminant == 0:\n",
    "    root = -b / (2*a)\n",
    "    print(\"root = \",root)\n",
    "else : \n",
    "    real_part = -b / (2*a)   \n",
    "    img_part = math.sqrt(abs(discriminant)) / (2*a)  \n",
    "    print(f\"Root1 = {real_part} + {img_part}i\")\n",
    "    print(f\"Root1 = {real_part} - {img_part}i\")\n",
    "    \n",
    "    \n",
    "    #input given : a=1,b=4,c=8"
   ]
  },
  {
   "cell_type": "markdown",
   "id": "0175be5c",
   "metadata": {},
   "source": [
    "### 10.Write a python program to swap two numbers without temp"
   ]
  },
  {
   "cell_type": "code",
   "execution_count": 34,
   "id": "05be0483",
   "metadata": {},
   "outputs": [
    {
     "name": "stdout",
     "output_type": "stream",
     "text": [
      "a: 20 b: 10\n"
     ]
    }
   ],
   "source": [
    "a=10\n",
    "b=20\n",
    "a,b = b,a\n",
    "print(f\"a: {a} b: {b}\")"
   ]
  },
  {
   "cell_type": "markdown",
   "id": "39377fdf",
   "metadata": {},
   "source": [
    "### 11.Write a Python program to check if the number is positive,negative or zero"
   ]
  },
  {
   "cell_type": "code",
   "execution_count": null,
   "id": "6c2bdc3e",
   "metadata": {},
   "outputs": [
    {
     "name": "stdout",
     "output_type": "stream",
     "text": [
      "its a positive number\n"
     ]
    }
   ],
   "source": [
    "num = int(input(\"Enter a number to check if its positive , negative or zero\"))\n",
    "if(num>0):\n",
    "    print(\"its a positive number\")\n",
    "elif(num<0):\n",
    "    print(\"Its a negative number\")\n",
    "else:\n",
    "    print(\"its a zero\")\n",
    "    \n",
    "    ##input: 10\n",
    "        "
   ]
  },
  {
   "cell_type": "markdown",
   "id": "3a1ba4c9",
   "metadata": {},
   "source": [
    "### 12.Write a program to check if a number is odd or even"
   ]
  },
  {
   "cell_type": "code",
   "execution_count": 37,
   "id": "04909c84",
   "metadata": {},
   "outputs": [
    {
     "name": "stdout",
     "output_type": "stream",
     "text": [
      "its a even number\n"
     ]
    }
   ],
   "source": [
    "num = int(input(\"Enter a number\"))\n",
    "if(num%2==0):\n",
    "    print(\"its a even number\")\n",
    "else:\n",
    "    print(\"its an odd number\")\n",
    " \n",
    " #input:18       \n",
    "    "
   ]
  },
  {
   "cell_type": "markdown",
   "id": "7c1b7363",
   "metadata": {},
   "source": [
    "### 13.Write a python program to check Leap year"
   ]
  },
  {
   "cell_type": "code",
   "execution_count": 39,
   "id": "c47f9cc7",
   "metadata": {},
   "outputs": [
    {
     "name": "stdout",
     "output_type": "stream",
     "text": [
      "2024 is a leap year\n"
     ]
    }
   ],
   "source": [
    "year = int(input(\"enter a year: \"))\n",
    "#divided by 100 means century year(ending with 00)\n",
    "#century year divided by 400 is a leap year\n",
    "if(year % 400 == 0) and (year % 100 == 0):\n",
    "    print(\"{0} is a leap year\".format(year))\n",
    "    \n",
    "# not divided by 100 meeans not a century year\n",
    "# year divided by 4 is a leap year \n",
    "\n",
    "#century year divided by 400 is a leap year\n",
    "if(year % 4 == 0) and (year % 100 != 0):\n",
    "    print(\"{0} is a leap year\".format(year))\n",
    "else:\n",
    "  print(\"{0} is not a leap year\".format(year))   \n",
    "  \n",
    "#input: 2024  \n",
    "\n",
    " "
   ]
  },
  {
   "cell_type": "markdown",
   "id": "da18384a",
   "metadata": {},
   "source": [
    "### 14.Write a python program to check prime number"
   ]
  },
  {
   "cell_type": "code",
   "execution_count": null,
   "id": "35649a98",
   "metadata": {},
   "outputs": [
    {
     "name": "stdout",
     "output_type": "stream",
     "text": [
      "its a prime number\n"
     ]
    }
   ],
   "source": [
    "num = int(input(\"Enter a number: \"))\n",
    "if num==1:\n",
    "    print(f\"{num} is not a prime number\")\n",
    "elif(num > 1):\n",
    "    for i in range(2,num):\n",
    "        if(num % i) == 0:\n",
    "            print(\"Its not a prime number\") \n",
    "            break\n",
    "    else:\n",
    "        print(\"its a prime number\")\n",
    "else:\n",
    "    print(\"please enter a positive number\")\n",
    "    \n",
    "    #input: 23                   "
   ]
  },
  {
   "cell_type": "markdown",
   "id": "c5631059",
   "metadata": {},
   "source": [
    "### 15.Write a Program to find prime numbers in an interval of 1-10"
   ]
  },
  {
   "cell_type": "code",
   "execution_count": 47,
   "id": "1a78f6ba",
   "metadata": {},
   "outputs": [
    {
     "name": "stdout",
     "output_type": "stream",
     "text": [
      "prime numbers between 1 and 10 are \n",
      "2\n",
      "3\n",
      "5\n",
      "7\n"
     ]
    }
   ],
   "source": [
    "lower = 1\n",
    "upper = 10\n",
    "\n",
    "print(\"prime numbers between\",lower,\"and\",upper,\"are \")\n",
    "for num in range(lower,upper+1):\n",
    "    if(num>1):\n",
    "        for i in range(2,num):\n",
    "            if(num%i)==0:\n",
    "                break\n",
    "        else:\n",
    "            print(num)\n",
    "            \n"
   ]
  },
  {
   "cell_type": "markdown",
   "id": "bad203c1",
   "metadata": {},
   "source": [
    "### 16.Write a program to find the factorial of a number"
   ]
  },
  {
   "cell_type": "code",
   "execution_count": null,
   "id": "b9328867",
   "metadata": {},
   "outputs": [
    {
     "name": "stdout",
     "output_type": "stream",
     "text": [
      "factorial of 5 is 120\n"
     ]
    }
   ],
   "source": [
    "a = int(input(\"Enter a number: \"))\n",
    "factorial = 1\n",
    "if( a == 0):\n",
    "    print(factorial)\n",
    "elif a<0:\n",
    "    print(\"factorial does not exist for negative numbers\")\n",
    "else:\n",
    "    for i in range(1,a+1):\n",
    "        factorial = factorial*i\n",
    "    print(\"factorial of\",a,\"is\",factorial)        \n",
    "\n",
    "#input:5"
   ]
  },
  {
   "cell_type": "markdown",
   "id": "6bbe899f",
   "metadata": {},
   "source": [
    "### 17.Write a program to display the multiplication table"
   ]
  },
  {
   "cell_type": "code",
   "execution_count": null,
   "id": "9b5a8b8b",
   "metadata": {},
   "outputs": [
    {
     "name": "stdout",
     "output_type": "stream",
     "text": [
      "2 X 1 = 2\n",
      "2 X 2 = 4\n",
      "2 X 3 = 6\n",
      "2 X 4 = 8\n",
      "2 X 5 = 10\n",
      "2 X 6 = 12\n",
      "2 X 7 = 14\n",
      "2 X 8 = 16\n",
      "2 X 9 = 18\n",
      "2 X 10 = 20\n"
     ]
    }
   ],
   "source": [
    "num = int(input(\"Enter a number\"))\n",
    "mul = 1\n",
    "for i in range(1,11):\n",
    "    mul = num*i\n",
    "    print(num,\"X\",i,\"=\",mul)\n",
    "    \n",
    " #input: 2   \n",
    "    "
   ]
  },
  {
   "cell_type": "markdown",
   "id": "b33b2910",
   "metadata": {},
   "source": [
    "### 18.Write a program to print fibonacci series"
   ]
  },
  {
   "cell_type": "code",
   "execution_count": null,
   "id": "9d99de12",
   "metadata": {},
   "outputs": [
    {
     "name": "stdout",
     "output_type": "stream",
     "text": [
      "Fibonacci series:\n",
      "0\n",
      "1\n",
      "1\n",
      "2\n",
      "3\n",
      "5\n",
      "8\n",
      "13\n",
      "21\n",
      "34\n"
     ]
    }
   ],
   "source": [
    "num = int(input(\"How many terms? \"))\n",
    "n1,n2 = 0,1\n",
    "count = 0\n",
    "if num<=0:\n",
    "    print(\"enter a postive number \")\n",
    "elif num == 1:\n",
    "    print(\"Fibonacii sequence upto\",num,\":\")\n",
    "    print(n1)\n",
    "else:\n",
    "    print(\"Fibonacci series:\")\n",
    "    while count < num:\n",
    "        print(n1)\n",
    "        nth = n1 + n2\n",
    "        #update values\n",
    "        n1 = n2\n",
    "        n2 = nth \n",
    "        count += 1       \n",
    "    \n",
    "#input:10    \n"
   ]
  },
  {
   "cell_type": "markdown",
   "id": "14c9fee9",
   "metadata": {},
   "source": [
    "### 19.Write a program to chcek Armstrong Number."
   ]
  },
  {
   "cell_type": "code",
   "execution_count": null,
   "id": "101a4864",
   "metadata": {},
   "outputs": [
    {
     "name": "stdout",
     "output_type": "stream",
     "text": [
      "9474 is an Armstrong number.\n"
     ]
    }
   ],
   "source": [
    "num = int(input(\"Enter a number: \"))\n",
    "\n",
    "#calculate the number of digoits in num\n",
    "num_str = str(num)\n",
    "num_digits = len(num_str)\n",
    "\n",
    "#initialize variables\n",
    "sum_of_powers = 0\n",
    "temp = num\n",
    "\n",
    "#calculate the sum of digits eaised to the power of num_digits\n",
    "while temp > 0:\n",
    "    digit = temp % 10\n",
    "    sum_of_powers += digit ** num_digits\n",
    "    temp //=10 \n",
    "    \n",
    "#chcek if its an Armstrong number\n",
    "\n",
    "if sum_of_powers == num:\n",
    "    print(f\"{num} is an Armstrong number.\")\n",
    "else:\n",
    "       print(f\"{num} is not an Armstrong number.\")        \n",
    " \n",
    " #input:9474\n",
    " "
   ]
  },
  {
   "cell_type": "markdown",
   "id": "6333973c",
   "metadata": {},
   "source": [
    "<sub>\n",
    "<b>Dry Run for num = 153</b><br><br>\n",
    "\n",
    "<b>Initial values:</b><br>\n",
    "num = 153<br>\n",
    "num_str = \"153\"<br>\n",
    "num_digits = 3<br>\n",
    "sum_of_powers = 0<br>\n",
    "temp = 153<br><br>\n",
    "\n",
    "<b>Iteration 1:</b><br>\n",
    "digit = 153 % 10 = 3<br>\n",
    "sum_of_powers = 0 + 3³ = 27<br>\n",
    "temp = 153 // 10 = 15<br><br>\n",
    "\n",
    "<b>Iteration 2:</b><br>\n",
    "digit = 15 % 10 = 5<br>\n",
    "sum_of_powers = 27 + 5³ = 27 + 125 = 152<br>\n",
    "temp = 15 // 10 = 1<br><br>\n",
    "\n",
    "<b>Iteration 3:</b><br>\n",
    "digit = 1 % 10 = 1<br>\n",
    "sum_of_powers = 152 + 1³ = 152 + 1 = 153<br>\n",
    "temp = 1 // 10 = 0 → loop ends<br><br>\n",
    "\n",
    "<b>Final Check:</b><br>\n",
    "sum_of_powers = 153 == num = 153 → <b>Armstrong </b>\n",
    "</sub>\n"
   ]
  },
  {
   "cell_type": "markdown",
   "id": "a5dc417d",
   "metadata": {},
   "source": [
    "### 20.Write a program to find Armstrong number in an interval"
   ]
  },
  {
   "cell_type": "code",
   "execution_count": null,
   "id": "df8db868",
   "metadata": {},
   "outputs": [
    {
     "name": "stdout",
     "output_type": "stream",
     "text": [
      "153\n",
      "370\n",
      "371\n",
      "407\n"
     ]
    }
   ],
   "source": [
    "lower = int(input(\"Enter the lower interval of the number : \"))\n",
    "upper = int(input(\"Enter the upper interval of the number : \"))\n",
    "\n",
    "for num in range(lower, upper+1):\n",
    "    order = len(str(num))\n",
    "    temp_num = num\n",
    "    sum = 0\n",
    "    \n",
    "    while temp_num > 0:\n",
    "        digit = temp_num % 10\n",
    "        sum += digit ** order\n",
    "        temp_num //=10\n",
    "        \n",
    "    if num == sum:\n",
    "        print(num)  \n",
    "        \n",
    "#input: lower= 10 , upper = 1000          "
   ]
  },
  {
   "cell_type": "markdown",
   "id": "2b293697",
   "metadata": {},
   "source": [
    "### 21.Program to find sum of natural numbers."
   ]
  },
  {
   "cell_type": "code",
   "execution_count": 9,
   "id": "a7c79dd7",
   "metadata": {},
   "outputs": [
    {
     "name": "stdout",
     "output_type": "stream",
     "text": [
      "55\n"
     ]
    }
   ],
   "source": [
    "a = int(input(\"Enter the list: \"))\n",
    "sum = 0\n",
    "\n",
    "for i in range(1,a+1):\n",
    "    sum += i\n",
    "print(sum)    \n"
   ]
  },
  {
   "cell_type": "markdown",
   "id": "ee232731",
   "metadata": {},
   "source": [
    "### 22.Python program to find LCM"
   ]
  },
  {
   "cell_type": "code",
   "execution_count": null,
   "id": "755cf135",
   "metadata": {},
   "outputs": [
    {
     "name": "stdout",
     "output_type": "stream",
     "text": [
      "The LCM is 216\n"
     ]
    }
   ],
   "source": [
    "def compute_lcm(x , y):\n",
    "    if x > y:\n",
    "        greater = x\n",
    "    else:\n",
    "        greater = y\n",
    "    while(True):\n",
    "        if((greater % x == 0) and (greater % y == 0)):\n",
    "            lcm = greater\n",
    "            break\n",
    "        greater +=1\n",
    "    return lcm\n",
    "num1 = int(input(\"Enter the first number: \")) \n",
    "num2 = int(input(\"Enter the second number: \"))\n",
    "\n",
    "print(\"The LCM is\",compute_lcm(num1,num2)) \n",
    "\n",
    "#input: 54 and 24    \n",
    "                \n"
   ]
  },
  {
   "cell_type": "markdown",
   "id": "6d84cc1e",
   "metadata": {},
   "source": [
    "<sub>\n",
    "<b>Dry Run for num1 = 54, num2 = 24</b><br><br>\n",
    "\n",
    "<b>Step 1: Function call</b><br>\n",
    "x = 54, y = 24<br>\n",
    "x > y → greater = 54<br><br>\n",
    "\n",
    "<b>Step 2: while(True) loop</b><br>\n",
    "1st check: greater = 54 → (54 % 54 == 0) ✅ and (54 % 24 == 6) ❌ → not LCM → greater = 55<br>\n",
    "2nd check: greater = 55 → (55 % 54 == 1) ❌ → greater = 56<br>\n",
    "...<br>\n",
    "Continue incrementing until common multiple found.<br><br>\n",
    "\n",
    "<b>Important hits:</b><br>\n",
    "greater = 108 → (108 % 54 == 0) ✅ and (108 % 24 == 12) ❌<br>\n",
    "greater = 216 → (216 % 54 == 0) ✅ and (216 % 24 == 0) ✅ → LCM found<br><br>\n",
    "\n",
    "<b>Step 3: Return</b><br>\n",
    "lcm = 216 → return 216<br><br>\n",
    "\n",
    "<b>Output:</b><br>\n",
    "\"The LCM is 216\"\n",
    "</sub>\n"
   ]
  },
  {
   "cell_type": "markdown",
   "id": "7d533407",
   "metadata": {},
   "source": [
    "### 23.Write a program to find HCF"
   ]
  },
  {
   "cell_type": "code",
   "execution_count": 11,
   "id": "e019689b",
   "metadata": {},
   "outputs": [
    {
     "name": "stdout",
     "output_type": "stream",
     "text": [
      "The hcf is 6\n"
     ]
    }
   ],
   "source": [
    "def compute_hcf(x,y):\n",
    "    if x > y:\n",
    "        smaller = y\n",
    "    else:\n",
    "        smaller = x\n",
    "    for i in range(1,smaller+1):\n",
    "        if ((x % i == 0) and (y % i == 0)):\n",
    "            hcf = i\n",
    "    return hcf\n",
    "num1 = int(input(\"Enter the first number: \")) \n",
    "num2 = int(input(\"Enter the second number: \"))\n",
    "\n",
    "print(\"The hcf is\",compute_hcf(num1,num2)) \n",
    "\n",
    "#input: 54 amd 24\n",
    "           "
   ]
  },
  {
   "cell_type": "markdown",
   "id": "2285d734",
   "metadata": {},
   "source": [
    "### 24.Python program to convert decimal to binary , octal and hexadecimal."
   ]
  },
  {
   "cell_type": "code",
   "execution_count": null,
   "id": "96f4d193",
   "metadata": {},
   "outputs": [
    {
     "name": "stdout",
     "output_type": "stream",
     "text": [
      "the decimal velue of 27 is\n",
      "0b11011 in binary\n",
      "0o33 in octal\n",
      "0x1b in hexa-decimal\n"
     ]
    }
   ],
   "source": [
    "dec_num = int(input(\"Enter a decimal number: \"))\n",
    "\n",
    "print(\"the decimal velue of\",dec_num,\"is\")\n",
    "print(bin(dec_num),\"in binary\")\n",
    "print(oct(dec_num),\"in octal\")\n",
    "print(hex(dec_num),\"in hexa-decimal\")\n",
    "\n",
    "#input:27"
   ]
  },
  {
   "cell_type": "markdown",
   "id": "a8771a72",
   "metadata": {},
   "source": [
    "### 25.Program to find Ascii value of a number"
   ]
  },
  {
   "cell_type": "code",
   "execution_count": null,
   "id": "17bf5c3d",
   "metadata": {},
   "outputs": [
    {
     "name": "stdout",
     "output_type": "stream",
     "text": [
      "The ASCII value of P is 80\n"
     ]
    }
   ],
   "source": [
    "char = str(input(\"Enter the character: \"))\n",
    "print(\"The ASCII value of \" + char + \" is\",ord(char))\n",
    "\n",
    "#input: P"
   ]
  },
  {
   "cell_type": "markdown",
   "id": "7b8d38e5",
   "metadata": {},
   "source": [
    "### 26.Program to make a simple calculator with 4 basic mathematical operations"
   ]
  },
  {
   "cell_type": "code",
   "execution_count": null,
   "id": "2b29e0ec",
   "metadata": {},
   "outputs": [
    {
     "name": "stdout",
     "output_type": "stream",
     "text": [
      "select operation\n",
      "1.Addition \n",
      " 2.Subtraction \n",
      " 3.multiplication \n",
      " 4.Divison\n",
      "5.0 + 6.0 = 11.0\n",
      "50.0 - 5.0 = 45.0\n",
      "22.0 * 2.0 = 44.0\n",
      "invalid input\n",
      "invalid input\n",
      "99.0 / 9.0 = 11.0\n"
     ]
    }
   ],
   "source": [
    "def add(x,y):\n",
    "    return x+y\n",
    "\n",
    "def sub(x,y):\n",
    "    return x-y\n",
    "\n",
    "def mul(x,y):\n",
    "    return x*y\n",
    "\n",
    "def div(x,y):\n",
    "    return x/y\n",
    "\n",
    "print(\"select operation\")\n",
    "print(\"1.Addition \\n 2.Subtraction \\n 3.multiplication \\n 4.Divison\")  \n",
    "\n",
    "while True:\n",
    "    choice = input(\"Enter a choice (1/2/3/4): \")\n",
    "    if choice in ('1','2','3','4'):\n",
    "        try:\n",
    "            num1 = float(input(\"Enter first number: \"))\n",
    "            num2 = float(input(\"Enter second number: \")) \n",
    "        except ValueError:\n",
    "            print(\"Invalid input , please enter a correct number\")   \n",
    "            continue\n",
    "        if choice == '1':\n",
    "            print(num1,\"+\",num2,\"=\",add(num1,num2))\n",
    "        elif choice == '2':\n",
    "            print(num1,\"-\",num2,\"=\",sub(num1,num2))\n",
    "            \n",
    "        elif choice == '3':\n",
    "            print(num1,\"*\",num2,\"=\",mul(num1,num2))\n",
    "            \n",
    "        elif choice == '4':\n",
    "            print(num1,\"/\",num2,\"=\",div(num1,num2)) \n",
    "            \n",
    "        next_calc = input(\"do u want to continue (yes/no): \")\n",
    "        if next_calc == \"no\":\n",
    "            break\n",
    "    else:\n",
    "            print(\"invalid input\")    \n",
    "            \n",
    "                       \n",
    "            \n",
    "                  "
   ]
  },
  {
   "cell_type": "markdown",
   "id": "16b3cf4d",
   "metadata": {},
   "source": [
    "### 27.Display fibonacci series using recursion"
   ]
  },
  {
   "cell_type": "code",
   "execution_count": 27,
   "id": "a7fefb1f",
   "metadata": {},
   "outputs": [
    {
     "name": "stdout",
     "output_type": "stream",
     "text": [
      "Fibonacci series:\n",
      "0\n",
      "1\n",
      "1\n",
      "2\n",
      "3\n",
      "5\n",
      "8\n",
      "13\n"
     ]
    }
   ],
   "source": [
    "def fib(n):\n",
    "    if n <= 1:\n",
    "        return(n)\n",
    "    else: \n",
    "        return(fib(n-1) + fib(n-2))    \n",
    "nterms = int(input(\"Enter the number of terms (greater then zero)\"))\n",
    "if nterms <=0:\n",
    "    print(\"Please enter positive integer\")\n",
    "else:\n",
    "    print(\"Fibonacci series:\")\n",
    "    for i in range(nterms):\n",
    "        print(fib(i))    "
   ]
  }
 ],
 "metadata": {
  "kernelspec": {
   "display_name": ".venv",
   "language": "python",
   "name": "python3"
  },
  "language_info": {
   "codemirror_mode": {
    "name": "ipython",
    "version": 3
   },
   "file_extension": ".py",
   "mimetype": "text/x-python",
   "name": "python",
   "nbconvert_exporter": "python",
   "pygments_lexer": "ipython3",
   "version": "3.11.4"
  }
 },
 "nbformat": 4,
 "nbformat_minor": 5
}
